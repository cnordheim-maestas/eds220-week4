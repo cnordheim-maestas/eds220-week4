{
 "cells": [
  {
   "cell_type": "markdown",
   "id": "50c2539d-ff33-4e7b-b387-7fbe6c7b6486",
   "metadata": {},
   "source": [
    "# Intro to geopandas\n",
    "\n",
    "https://carmengg.github.io/eds-220-book/lectures/lesson-8-vector-data.html"
   ]
  },
  {
   "cell_type": "markdown",
   "id": "2d23981e-65c7-4256-9a4b-1682e58363cf",
   "metadata": {},
   "source": [
    "Geopandas is a pythn library for geospatial data. \n",
    "\n",
    "Import with standard abbreviation:"
   ]
  },
  {
   "cell_type": "code",
   "execution_count": 1,
   "id": "8499c94e-b0e3-4726-91a2-055412d28b18",
   "metadata": {
    "tags": []
   },
   "outputs": [],
   "source": [
    "import geopandas as gpd\n",
    "\n",
    "import matplotlib.pyplot as plt"
   ]
  },
  {
   "cell_type": "markdown",
   "id": "ecfe521b-a880-4e70-bf7b-fbf4089bf350",
   "metadata": {},
   "source": [
    "## Data\n",
    "\n",
    "We will use simplified point data about wild pigs (Sus scrofa) sightings in California, USA from the Global Biodiversity Information Facility (https://www.gbif.org/)\n",
    "\n",
    "We can read in a shapefile with geopandas by using the gpd.read_file() function."
   ]
  }
 ],
 "metadata": {
  "kernelspec": {
   "display_name": "Python 3 (ipykernel)",
   "language": "python",
   "name": "python3"
  },
  "language_info": {
   "codemirror_mode": {
    "name": "ipython",
    "version": 3
   },
   "file_extension": ".py",
   "mimetype": "text/x-python",
   "name": "python",
   "nbconvert_exporter": "python",
   "pygments_lexer": "ipython3",
   "version": "3.7.13"
  }
 },
 "nbformat": 4,
 "nbformat_minor": 5
}
