{
 "cells": [
  {
   "cell_type": "markdown",
   "id": "cf157cd7-715c-421b-8b6c-4c41b0e408da",
   "metadata": {},
   "source": [
    "# Merging data\n",
    "\n",
    "https://carmengg.github.io/eds-220-book/lectures/lesson-10-merge-data.html"
   ]
  },
  {
   "cell_type": "markdown",
   "id": "0041ba87-917b-47a3-940e-9ead6521c7a6",
   "metadata": {},
   "source": [
    "\"Joins\"\n",
    "- inner join: merge subset of rows that have matches in both the left and right table, if they dont have matches, they aren't included\n",
    "\n",
    "- left join: takes all rows from left table and merges on the data from matching rows in the right table, keys that dont match keep the row but add an na"
   ]
  }
 ],
 "metadata": {
  "kernelspec": {
   "display_name": "Python 3 (ipykernel)",
   "language": "python",
   "name": "python3"
  },
  "language_info": {
   "codemirror_mode": {
    "name": "ipython",
    "version": 3
   },
   "file_extension": ".py",
   "mimetype": "text/x-python",
   "name": "python",
   "nbconvert_exporter": "python",
   "pygments_lexer": "ipython3",
   "version": "3.7.13"
  }
 },
 "nbformat": 4,
 "nbformat_minor": 5
}
